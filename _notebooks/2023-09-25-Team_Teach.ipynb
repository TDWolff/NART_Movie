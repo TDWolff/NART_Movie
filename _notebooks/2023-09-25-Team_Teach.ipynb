{
 "cells": [
  {
   "cell_type": "markdown",
   "metadata": {},
   "source": [
    "---\n",
    "toc: true\n",
    "comments: False\n",
    "layout: post\n",
    "title: Data Abstraction\n",
    "description: Team Teaching \n",
    "type: plans\n",
    "courses: {'compsci': {'week': 7}}\n",
    "---"
   ]
  },
  {
   "cell_type": "markdown",
   "metadata": {},
   "source": [
    "## 3.1 Variables And Assignments\n",
    "\n",
    "Variables are considered abstraction as they assign a value to another value. In other words, they basically describe values to each other. Variables are important as it can be used in many different uses such as they can store useful information, especially if you have a long lines of code. Variables are mostly used to store data such as numbers, booleans, lists, strings and dictionaries. \n"
   ]
  },
  {
   "cell_type": "code",
   "execution_count": 15,
   "metadata": {},
   "outputs": [
    {
     "name": "stdout",
     "output_type": "stream",
     "text": [
      "True\n",
      "False\n",
      "Student failed\n",
      "16\n",
      "[30, 40, 50, 60, 70]\n",
      "{'cookies': 'sweet', 'pizza': 'cheesy'}\n",
      "sweet\n"
     ]
    }
   ],
   "source": [
    "### BOOLEAN EXAMPLES\n",
    "age = 16  # Here is the number example\n",
    "print(bool(age))  \n",
    "\n",
    "print(age<8)\n",
    "\n",
    "PASS_POINTS = 75\n",
    "FAIL_POINTS = 50\n",
    "\n",
    "if PASS_POINTS < FAIL_POINTS:\n",
    "    passed = True\n",
    "else:\n",
    "    passed = False\n",
    "\n",
    "if passed:\n",
    "    print(\"Student has passed\")\n",
    "else:\n",
    "    print(\"Student failed\")\n",
    "\n",
    "\n",
    "## STRING EXAMPLE\n",
    "\n",
    "age = \"16\"\n",
    "print(age)\n",
    "\n",
    "## LIST EXAMPLE\n",
    "\n",
    "numbers = [30,40,50,60,70]\n",
    "print(numbers)\n",
    "\n",
    "\n",
    "## DICTIONARIES EXAMPLE\n",
    "\n",
    "taste = {\n",
    "    \"cookies\":\"sweet\",\n",
    "    \"pizza\":\"cheesy\",\n",
    "}\n",
    "\n",
    "print(taste)\n",
    "print(taste[\"cookies\"])"
   ]
  },
  {
   "cell_type": "markdown",
   "metadata": {},
   "source": [
    "## 3.1 Variables And Assignments"
   ]
  },
  {
   "cell_type": "markdown",
   "metadata": {},
   "source": [
    "## 3.2 Data Abstraction - Lists & Strings\n",
    "<p>\n",
    "Lists and strings are a simple method of data abstraction in which a number of values (list elements or characters) are stored in a single variable. Each value in a list or string can be referred to with its natural-number index.\n",
    "</p>"
   ]
  },
  {
   "cell_type": "markdown",
   "metadata": {},
   "source": [
    "## 3.2 Data Abstraction\n",
    "\n",
    "Data abstraction is the process of hiding certain details and showing only essential information to the user. Abstraction can be achieved with either abstract classes or interfaces (which you will learn more about in the next chapter). You can also use the abstract keyword to create abstract methods that must be overridden in the subclass.You do this by putting information in lists, dictionaries, and objects. You can also create your own data types using classes. This is called data abstraction. Here is an example of data abstraction:"
   ]
  },
  {
   "cell_type": "code",
   "execution_count": 2,
   "metadata": {},
   "outputs": [],
   "source": [
    "class Person:\n",
    "    def __init__(self, name, age):\n",
    "        self.name = name\n",
    "        self.age = age\n",
    "\n",
    "    def myfunc(self):\n",
    "        print(\"Hello my name is \" + self.name)"
   ]
  }
 ],
 "metadata": {
  "kernelspec": {
   "display_name": "Python 3",
   "language": "python",
   "name": "python3"
  },
  "language_info": {
   "codemirror_mode": {
    "name": "ipython",
    "version": 3
   },
   "file_extension": ".py",
   "mimetype": "text/x-python",
   "name": "python",
   "nbconvert_exporter": "python",
   "pygments_lexer": "ipython3",
   "version": "3.10.12"
  },
  "orig_nbformat": 4
 },
 "nbformat": 4,
 "nbformat_minor": 2
}
