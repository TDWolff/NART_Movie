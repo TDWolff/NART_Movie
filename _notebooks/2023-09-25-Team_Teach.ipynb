{
 "cells": [
  {
   "cell_type": "markdown",
   "metadata": {},
   "source": [
    "---\n",
    "toc: true\n",
    "comments: False\n",
    "layout: post\n",
    "title: Data Abstraction\n",
    "description: Team Teaching \n",
    "type: plans\n",
    "courses: {'compsci': {'week': 7}}\n",
    "---"
   ]
  },
  {
   "cell_type": "markdown",
   "metadata": {},
   "source": [
    "## 3.1 Variables And Assignments\n",
    "\n",
    "Variables are considered abstraction as they assign a value to another value. In other words, they basically describe values to each other. Variables are important as it can be used in many different uses such as they can store useful information, especially if you have a long lines of code. Variables are mostly used to store data such as numbers, booleans, lists, strings and dictionaries. \n",
    "\n",
    "> Note:\n",
    " A variable needs to have a proper name, cannot have spaces inside of them and needs to be reasonable.\n",
    "\n",
    " For example:\n",
    "\n",
    " * highScore is a better and shorter way of saying highestScoreInTheGame\n",
    "\n",
    " * firstName is more specific than n\n",
    "\n",
    " * instead of is raining (because it has spaced) israining or is_it_raining is a better way of looking at the variable\n",
    "\n",
    " * phonenumber is better than saying 555-number (it just looks neater to look at)"
   ]
  },
  {
   "cell_type": "code",
   "execution_count": 18,
   "metadata": {},
   "outputs": [
    {
     "name": "stdout",
     "output_type": "stream",
     "text": [
      "Nandan\n",
      "33\n"
     ]
    }
   ],
   "source": [
    "firstName = \"Nandan\" # this is a string\n",
    "print(firstName)\n",
    "\n",
    "highScore = 33 ## this is an integer\n",
    "print(highScore)"
   ]
  },
  {
   "cell_type": "code",
   "execution_count": 19,
   "metadata": {
    "vscode": {
     "languageId": "html"
    }
   },
   "outputs": [
    {
     "ename": "SyntaxError",
     "evalue": "invalid syntax (4143370565.py, line 1)",
     "output_type": "error",
     "traceback": [
      "\u001b[0;36m  File \u001b[0;32m\"/tmp/ipykernel_15412/4143370565.py\"\u001b[0;36m, line \u001b[0;32m1\u001b[0m\n\u001b[0;31m    <p style=\"color:rgb(38, 132, 163);\">Popcorn Hack#1 - Make your own variable either with a number or a string and print it out</p>\u001b[0m\n\u001b[0m    ^\u001b[0m\n\u001b[0;31mSyntaxError\u001b[0m\u001b[0;31m:\u001b[0m invalid syntax\n"
     ]
    }
   ],
   "source": [
    "<p style=\"lightblue\">Popcorn Hack#1 - Make your own variable either with a number or a string and print it out</p>"
   ]
  },
  {
   "cell_type": "code",
   "execution_count": null,
   "metadata": {
    "vscode": {
     "languageId": "html"
    }
   },
   "outputs": [],
   "source": [
    "<h3>Data Types:\n",
    "    Integer: A whole number\n",
    "    Boolean: True or False based on operators\n",
    "    String: Anything that contains \"{text is stored in here}\"\n",
    "</h3>"
   ]
  },
  {
   "cell_type": "code",
   "execution_count": 15,
   "metadata": {},
   "outputs": [
    {
     "name": "stdout",
     "output_type": "stream",
     "text": [
      "True\n",
      "False\n",
      "Student failed\n",
      "16\n",
      "[30, 40, 50, 60, 70]\n",
      "{'cookies': 'sweet', 'pizza': 'cheesy'}\n",
      "sweet\n"
     ]
    }
   ],
   "source": [
    "### BOOLEAN EXAMPLES\n",
    "age = 16  # Here is the number example\n",
    "print(bool(age))  \n",
    "\n",
    "print(age<8)\n",
    "\n",
    "PASS_POINTS = 75\n",
    "FAIL_POINTS = 50\n",
    "\n",
    "if PASS_POINTS < FAIL_POINTS:\n",
    "    passed = True\n",
    "else:\n",
    "    passed = False\n",
    "\n",
    "if passed:\n",
    "    print(\"Student has passed\")\n",
    "else:\n",
    "    print(\"Student failed\")\n",
    "\n",
    "\n",
    "## STRING EXAMPLE\n",
    "\n",
    "age = \"16\"\n",
    "print(age)\n",
    "\n"
   ]
  },
  {
   "cell_type": "markdown",
   "metadata": {},
   "source": [
    "## 3.1 Variables And Assignments\n",
    "\n",
    "\n",
    "\n",
    "-> Assignments and variables are fundamental ideas in computer programming. They give programmers the ability to manage, store, and alter data. In the realm of programming and computer science, knowing how to declare and assign values to variables is an essential ability.\n"
   ]
  },
  {
   "cell_type": "markdown",
   "metadata": {},
   "source": [
    "## 3.2 Data Abstraction - Lists & Strings\n",
    "<p>\n",
    "Lists and strings are a simple method of data abstraction in which a number of values (list elements or characters) are stored in a single variable. Each value in a list or string can be referred to with its natural-number index.\n",
    "</p>\n",
    "<p>\n",
    "A string is simply a sequence of characters; letters, numbers, special characters, etc.\n",
    "</p>\n",
    "<p>\n",
    "A list is an ordered sequence of variables (elements), each of which contains some data value. The elements need not be all the same data type. \n",
    "\n",
    "</p>"
   ]
  },
  {
   "cell_type": "code",
   "execution_count": 4,
   "metadata": {},
   "outputs": [
    {
     "name": "stdout",
     "output_type": "stream",
     "text": [
      "y\n",
      "Ramskoeldia consimilis\n",
      "True\n",
      "987654\n"
     ]
    }
   ],
   "source": [
    "#Each element in a list/string is referred to with a natural-number index.\n",
    "#FOR THE PURPOSES OF THE AP EXAM ONLY, the indexes start at 1.\n",
    "#IN PYTHON (and most other languages), the indexes start at 0.\n",
    "\n",
    "#Example string\n",
    "name = \"llanfairpwllgwyngyllgogerychwyrndrobwllllantysiliogogogoch\"\n",
    "\n",
    "#Returning the 18th character in the string ('y') - Remember that Python indices start at 0!\n",
    "print(name[17])\n",
    "\n",
    "#Example list\n",
    "rn_list = [\"Ramskoeldia consimilis\", 187.52, \"e\", True, 0, None, \"987654\", [1,5,8]]\n",
    "\n",
    "#Returning the 1st, 4th, and 7th elements in the list\n",
    "print(rn_list[0])\n",
    "print(rn_list[3])\n",
    "print(rn_list[6])"
   ]
  },
  {
   "cell_type": "code",
   "execution_count": null,
   "metadata": {
    "vscode": {
     "languageId": "html"
    }
   },
   "outputs": [],
   "source": [
    "<p style=\"color:rgb(38, 132, 163);\">Popcorn Hack#3 - Make your own list based on your intersts and access the items in the list according to your interest</p>"
   ]
  },
  {
   "cell_type": "markdown",
   "metadata": {},
   "source": [
    "## 3.2 Data Abstraction\n",
    "\n",
    "Data abstraction is the process of hiding certain details and showing only essential information to the user. Abstraction can be achieved with either abstract classes or interfaces (which you will learn more about in the next chapter). You can also use the abstract keyword to create abstract methods that must be overridden in the subclass.You do this by putting information in lists, dictionaries, and objects. You can also create your own data types using classes. This is called data abstraction. Here is an example of data abstraction:"
   ]
  },
  {
   "cell_type": "code",
   "execution_count": 2,
   "metadata": {},
   "outputs": [],
   "source": [
    "class Person:\n",
    "    def __init__(self, name, age):\n",
    "        self.name = name\n",
    "        self.age = age\n",
    "\n",
    "    def myfunc(self):\n",
    "        print(\"Hello my name is \" + self.name)"
   ]
  }
 ],
 "metadata": {
  "kernelspec": {
   "display_name": "Python 3",
   "language": "python",
   "name": "python3"
  },
  "language_info": {
   "codemirror_mode": {
    "name": "ipython",
    "version": 3
   },
   "file_extension": ".py",
   "mimetype": "text/x-python",
   "name": "python",
   "nbconvert_exporter": "python",
   "pygments_lexer": "ipython3",
   "version": "3.11.4"
  },
  "orig_nbformat": 4
 },
 "nbformat": 4,
 "nbformat_minor": 2
}
