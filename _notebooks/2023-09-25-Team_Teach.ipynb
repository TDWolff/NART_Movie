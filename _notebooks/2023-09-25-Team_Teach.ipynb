{
 "cells": [
  {
   "cell_type": "markdown",
   "metadata": {},
   "source": [
    "---\n",
    "toc: True\n",
    "comments: False\n",
    "layout: post\n",
    "title: Data Abstraction\n",
    "description: Team Teaching stuff\n",
    "type: plans\n",
    "courses: {'compsci': {'week': 7}}\n",
    "---"
   ]
  },
  {
   "cell_type": "markdown",
   "metadata": {},
   "source": [
    "## Variables and Assignments"
   ]
  },
  {
   "cell_type": "markdown",
   "metadata": {},
   "source": [
    "3.1 Variables And Assignments"
   ]
  },
  {
   "cell_type": "markdown",
   "metadata": {},
   "source": [
    "3.2 Variables And Assignments"
   ]
  },
  {
   "cell_type": "markdown",
   "metadata": {},
   "source": [
    "3.1 Data Abstraction"
   ]
  },
  {
   "cell_type": "markdown",
   "metadata": {},
   "source": [
    "## 3.2 Data Abstraction\n",
    "> Data abstraction is the process of hiding certain details and showing only essential information to the user. Abstraction can be achieved with either abstract classes or interfaces (which you will learn more about in the next chapter). You can also use the abstract keyword to create abstract methods that must be overridden in the subclass.You do this by putting information in lists, dictionaries, and objects. You can also create your own data types using classes. This is called data abstraction. Here is an example of data abstraction: \n",
    "\n",
    "```python\n",
    "class Person:\n",
    "    def __init__(self, name, age):\n",
    "        self.name = name\n",
    "        self.age = age\n",
    "\n",
    "    def myfunc(self):\n",
    "        print(\"Hello my name is \" + self.name)\n",
    "```\n",
    "This is a class called Person. It takes in two parameters, name and age. It also has a method called myfunc that prints out a message with the name of the person and their age. Lets see this as a list. Lets make a function that takes in a list of people and prints out their names and ages. \n",
    "\n",
    "```python\n",
    "def print_people(people):\n",
    "    for person in people:\n",
    "        print(person.name + \" is \" + str(person.age) + \" years old\") // this will print out the key and the value\n",
    "```\n",
    "This function takes in a list of people and prints out their names and ages. Lets see this as a dictionary. Lets make a function that takes in a dictionary of people and prints out their names and ages. First lets make the dictionary. \n",
    "\n",
    "```python\n",
    "people = {\n",
    "    \"John\": 32,\n",
    "    \"Rob\": 23,\n",
    "    \"Amanda\": 19\n",
    "}\n",
    "```\n",
    "Then we can make the function. \n",
    "\n",
    "```python\n",
    "people = {\n",
    "    \"John\": 32,\n",
    "    \"Rob\": 23,\n",
    "    \"Amanda\": 19\n",
    "} // this is the dictionary\n",
    "def print_people(people): // this is the function\n",
    "    for person in people: // this is the for loop\n",
    "        print(person + \" is \" + str(people[person]) + \" years old\") // this will print out the key and the value\n",
    "```\n",
    "\n",
    "# Hacks\n",
    "> - You can use the type() function to find out what type of data type a variable is as shown below:\n",
    "```python\n",
    "x = 5\n",
    "print(type(x))\n",
    "```\n",
    "> - You can use the isinstance() function to check if a variable is a certain data type as shown below:\n",
    "```python\n",
    "x = 5\n",
    "print(isinstance(x, int))\n",
    "```\n",
    "> - You can use the dir() function to find out what methods an object has as shown below:\n",
    "```python\n",
    "x = 5\n",
    "print(dir(x))\n",
    "```\n",
    "\n",
    "# Homework\n",
    "> - Create a class called Person with the attributes name and age. Then create a function called print_people that takes in a list of people and prints out their names and ages.\n",
    "> - Create a function that takes in a dictionary of people and their ages and prints out the name of the oldest person."
   ]
  }
 ],
 "metadata": {
  "language_info": {
   "name": "python"
  },
  "orig_nbformat": 4
 },
 "nbformat": 4,
 "nbformat_minor": 2
}
