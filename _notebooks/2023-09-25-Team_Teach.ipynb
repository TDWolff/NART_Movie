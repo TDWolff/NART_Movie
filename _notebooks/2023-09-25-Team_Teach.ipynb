{
 "cells": [
  {
   "cell_type": "markdown",
   "metadata": {},
   "source": [
    "---\n",
    "toc: true\n",
    "comments: False\n",
    "layout: post\n",
    "title: Data Abstraction\n",
    "description: Team Teaching \n",
    "type: plans\n",
    "courses: {'compsci': {'week': 7}}\n",
    "---"
   ]
  },
  {
   "cell_type": "markdown",
   "metadata": {},
   "source": [
<<<<<<< HEAD
    "## 3.1 Variables And Assignments\n",
=======
    "## Variables and Assignments"
   ]
  },
  {
   "cell_type": "markdown",
   "metadata": {},
   "source": [
    "3.1 Variables And Assignments"
   ]
  },
  {
   "cell_type": "markdown",
   "metadata": {},
   "source": [
    "3.2 Variables And Assignments"
   ]
  },
  {
   "cell_type": "markdown",
   "metadata": {},
   "source": [
    "3.1 Data Abstraction"
   ]
  },
  {
   "cell_type": "markdown",
   "metadata": {},
   "source": [
    "## 3.2 Data Abstraction\n",
    "> Data abstraction is the process of hiding certain details and showing only essential information to the user. Abstraction can be achieved with either abstract classes or interfaces (which you will learn more about in the next chapter). You can also use the abstract keyword to create abstract methods that must be overridden in the subclass.You do this by putting information in lists, dictionaries, and objects. You can also create your own data types using classes. This is called data abstraction. Here is an example of data abstraction: \n",
>>>>>>> 28b5b2ef91f9340008b046b648a080b2b05636d1
    "\n",
    "Variables are considered abstraction as they assign a value to another value. In other words, they basically describe values to each other. Variables are important as it can be used in many different uses such as they can store useful information, especially if you have a long lines of code. Variables are mostly used to store data such as numbers, booleans, lists, strings and dictionaries. \n",
    "\n"
   ]
  },
  {
   "cell_type": "code",
   "execution_count": 15,
   "metadata": {},
   "outputs": [
    {
     "name": "stdout",
     "output_type": "stream",
     "text": [
      "True\n",
      "False\n",
      "Student failed\n",
      "16\n",
      "[30, 40, 50, 60, 70]\n",
      "{'cookies': 'sweet', 'pizza': 'cheesy'}\n",
      "sweet\n"
     ]
    }
   ],
   "source": [
    "### BOOLEAN EXAMPLES\n",
    "age = 16  # Here is the number example\n",
    "print(bool(age))  \n",
    "\n",
    "print(age<8)\n",
    "\n",
    "PASS_POINTS = 75\n",
    "FAIL_POINTS = 50\n",
    "\n",
    "if PASS_POINTS < FAIL_POINTS:\n",
    "    passed = True\n",
    "else:\n",
    "    passed = False\n",
    "\n",
    "if passed:\n",
    "    print(\"Student has passed\")\n",
    "else:\n",
    "    print(\"Student failed\")\n",
    "\n",
    "\n",
    "## STRING EXAMPLE\n",
    "\n",
    "age = \"16\"\n",
    "print(age)\n",
    "\n"
   ]
  },
  {
   "cell_type": "markdown",
   "metadata": {},
   "source": [
    "## 3.1 Variables And Assignments"
   ]
  },
  {
   "cell_type": "markdown",
   "metadata": {},
   "source": [
    "## 3.2 Data Abstraction - Lists & Strings\n",
    "<p>\n",
    "Lists and strings are a simple method of data abstraction in which a number of values (list elements or characters) are stored in a single variable. Each value in a list or string can be referred to with its natural-number index.\n",
    "</p>\n",
    "<p>\n",
    "A string is simply a sequence of characters; letters, numbers, special characters, etc.\n",
    "</p>\n",
    "<p>\n",
    "A list is an ordered sequence of variables (elements), each of which contains some data value. The elements need not be all the same data type. \n",
    "\n",
    "</p>"
   ]
  },
  {
   "cell_type": "code",
   "execution_count": 4,
   "metadata": {},
   "outputs": [
    {
     "name": "stdout",
     "output_type": "stream",
     "text": [
      "y\n",
      "Ramskoeldia consimilis\n",
      "True\n",
      "987654\n"
     ]
    }
   ],
   "source": [
    "#Each element in a list/string is referred to with a natural-number index.\n",
    "#FOR THE PURPOSES OF THE AP EXAM ONLY, the indexes start at 1.\n",
    "#IN PYTHON (and most other languages), the indexes start at 0.\n",
    "\n",
    "#Example string\n",
    "name = \"llanfairpwllgwyngyllgogerychwyrndrobwllllantysiliogogogoch\"\n",
    "\n",
    "#Returning the 18th character in the string ('y') - Remember that Python indices start at 0!\n",
    "print(name[17])\n",
    "\n",
    "#Example list\n",
    "rn_list = [\"Ramskoeldia consimilis\", 187.52, \"e\", True, 0, None, \"987654\", [1,5,8]]\n",
    "\n",
    "#Returning the 1st, 4th, and 7th elements in the list\n",
    "print(rn_list[0])\n",
    "print(rn_list[3])\n",
    "print(rn_list[6])"
   ]
  },
  {
   "cell_type": "markdown",
   "metadata": {},
   "source": [
    "## 3.2 Data Abstraction\n",
    "\n",
    "Data abstraction is the process of hiding certain details and showing only essential information to the user. Abstraction can be achieved with either abstract classes or interfaces (which you will learn more about in the next chapter). You can also use the abstract keyword to create abstract methods that must be overridden in the subclass.You do this by putting information in lists, dictionaries, and objects. You can also create your own data types using classes. This is called data abstraction. Here is an example of data abstraction:"
   ]
  },
  {
   "cell_type": "code",
   "execution_count": 2,
   "metadata": {},
   "outputs": [],
   "source": [
    "class Person:\n",
    "    def __init__(self, name, age):\n",
    "        self.name = name\n",
    "        self.age = age\n",
    "\n",
    "    def myfunc(self):\n",
<<<<<<< HEAD
    "        print(\"Hello my name is \" + self.name)"
=======
    "        print(\"Hello my name is \" + self.name)\n",
    "```\n",
    "This is a class called Person. It takes in two parameters, name and age. It also has a method called myfunc that prints out a message with the name of the person and their age. Lets see this as a list. Lets make a function that takes in a list of people and prints out their names and ages. \n",
    "\n",
    "```python\n",
    "def print_people(people):\n",
    "    for person in people:\n",
    "        print(person.name + \" is \" + str(person.age) + \" years old\") // this will print out the key and the value\n",
    "```\n",
    "This function takes in a list of people and prints out their names and ages. Lets see this as a dictionary. Lets make a function that takes in a dictionary of people and prints out their names and ages. First lets make the dictionary. \n",
    "\n",
    "```python\n",
    "people = {\n",
    "    \"John\": 32,\n",
    "    \"Rob\": 23,\n",
    "    \"Amanda\": 19\n",
    "}\n",
    "```\n",
    "Then we can make the function. \n",
    "\n",
    "```python\n",
    "people = {\n",
    "    \"John\": 32,\n",
    "    \"Rob\": 23,\n",
    "    \"Amanda\": 19\n",
    "} // this is the dictionary\n",
    "def print_people(people): // this is the function\n",
    "    for person in people: // this is the for loop\n",
    "        print(person + \" is \" + str(people[person]) + \" years old\") // this will print out the key and the value\n",
    "```\n",
    "\n",
    "# Hacks\n",
    "> - You can use the type() function to find out what type of data type a variable is as shown below:\n",
    "```python\n",
    "x = 5\n",
    "print(type(x))\n",
    "```\n",
    "> - You can use the isinstance() function to check if a variable is a certain data type as shown below:\n",
    "```python\n",
    "x = 5\n",
    "print(isinstance(x, int))\n",
    "```\n",
    "> - You can use the dir() function to find out what methods an object has as shown below:\n",
    "```python\n",
    "x = 5\n",
    "print(dir(x))\n",
    "```\n",
    "\n",
    "# Homework\n",
    "> - Create a class called Person with the attributes name and age. Then create a function called print_people that takes in a list of people and prints out their names and ages.\n",
    "> - Create a function that takes in a dictionary of people and their ages and prints out the name of the oldest person."
>>>>>>> 28b5b2ef91f9340008b046b648a080b2b05636d1
   ]
  }
 ],
 "metadata": {
  "kernelspec": {
   "display_name": "Python 3",
   "language": "python",
   "name": "python3"
  },
  "language_info": {
   "codemirror_mode": {
    "name": "ipython",
    "version": 3
   },
   "file_extension": ".py",
   "mimetype": "text/x-python",
   "name": "python",
   "nbconvert_exporter": "python",
   "pygments_lexer": "ipython3",
   "version": "3.11.4"
  },
  "orig_nbformat": 4
 },
 "nbformat": 4,
 "nbformat_minor": 2
}
