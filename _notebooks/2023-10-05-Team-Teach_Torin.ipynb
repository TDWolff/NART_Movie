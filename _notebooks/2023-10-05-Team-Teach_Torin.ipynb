{
 "cells": [
  {
   "cell_type": "markdown",
   "metadata": {},
   "source": [
    "## Popcorn Hack 1"
   ]
  },
  {
   "cell_type": "code",
   "execution_count": 16,
   "metadata": {},
   "outputs": [
    {
     "name": "stderr",
     "output_type": "stream",
     "text": [
      "<>:5: SyntaxWarning: 'int' object is not callable; perhaps you missed a comma?\n",
      "<>:5: SyntaxWarning: 'int' object is not callable; perhaps you missed a comma?\n",
      "/var/folders/87/1vxk_8413yqftswxc5pgk08m0000gp/T/ipykernel_31379/579303117.py:5: SyntaxWarning: 'int' object is not callable; perhaps you missed a comma?\n",
      "  y.append(3(i+2)-4)\n"
     ]
    },
    {
     "ename": "TypeError",
     "evalue": "'int' object is not callable",
     "output_type": "error",
     "traceback": [
      "\u001b[0;31m---------------------------------------------------------------------------\u001b[0m",
      "\u001b[0;31mTypeError\u001b[0m                                 Traceback (most recent call last)",
      "\u001b[1;32m/Users/torinwolff/Documents/GitHub/NART_Movie/_notebooks/2023-10-05-Team-Teach_Torin.ipynb Cell 2\u001b[0m line \u001b[0;36m5\n\u001b[1;32m      <a href='vscode-notebook-cell:/Users/torinwolff/Documents/GitHub/NART_Movie/_notebooks/2023-10-05-Team-Teach_Torin.ipynb#W0sZmlsZQ%3D%3D?line=1'>2</a>\u001b[0m y \u001b[39m=\u001b[39m []\n\u001b[1;32m      <a href='vscode-notebook-cell:/Users/torinwolff/Documents/GitHub/NART_Movie/_notebooks/2023-10-05-Team-Teach_Torin.ipynb#W0sZmlsZQ%3D%3D?line=3'>4</a>\u001b[0m \u001b[39mfor\u001b[39;00m i \u001b[39min\u001b[39;00m x:\n\u001b[0;32m----> <a href='vscode-notebook-cell:/Users/torinwolff/Documents/GitHub/NART_Movie/_notebooks/2023-10-05-Team-Teach_Torin.ipynb#W0sZmlsZQ%3D%3D?line=4'>5</a>\u001b[0m     y\u001b[39m.\u001b[39mappend(\u001b[39m3\u001b[39;49m(i\u001b[39m+\u001b[39;49m\u001b[39m2\u001b[39;49m)\u001b[39m-\u001b[39m\u001b[39m4\u001b[39m)\n\u001b[1;32m      <a href='vscode-notebook-cell:/Users/torinwolff/Documents/GitHub/NART_Movie/_notebooks/2023-10-05-Team-Teach_Torin.ipynb#W0sZmlsZQ%3D%3D?line=6'>7</a>\u001b[0m \u001b[39mprint\u001b[39m(y)\n",
      "\u001b[0;31mTypeError\u001b[0m: 'int' object is not callable"
     ]
    }
   ],
   "source": [
    "x = [0, 1, 2, 3, 4]\n",
    "y = []\n",
    "\n",
    "for i in x:\n",
    "    y.append(3(i+2)-4)\n",
    "\n",
    "print(y)"
   ]
  },
  {
   "cell_type": "markdown",
   "metadata": {},
   "source": [
    "## Popcorn Hack 2"
   ]
  },
  {
   "cell_type": "code",
   "execution_count": 7,
   "metadata": {},
   "outputs": [
    {
     "name": "stdout",
     "output_type": "stream",
     "text": [
      "103.0\n"
     ]
    }
   ],
   "source": [
    "num1 = 20 ## num1 is 20\n",
    "num2 = num1 /2 ## num2 is num1 divided by 2\n",
    "## Num2 is 10\n",
    "num3 = num2 * 10 + 3 ## num3 is num2 times 10 plus 3\n",
    "## num3 will be 100 + 3\n",
    "print(num3) ## prints num3\n",
    "\n",
    "## code will print 103"
   ]
  },
  {
   "cell_type": "markdown",
   "metadata": {},
   "source": [
    "## Popcorn Hack 3"
   ]
  },
  {
   "cell_type": "code",
   "execution_count": 9,
   "metadata": {},
   "outputs": [
    {
     "name": "stdout",
     "output_type": "stream",
     "text": [
      "35\n",
      "5\n",
      "300\n",
      "1.3333333333333333\n",
      "5\n"
     ]
    }
   ],
   "source": [
    "num1 = 20\n",
    "num2 = 15\n",
    "\n",
    "print(num1 + num2)\n",
    "## Prints Addition\n",
    "\n",
    "print(num1 - num2)\n",
    "## Prints Subtraction\n",
    "\n",
    "print(num1 * num2)\n",
    "## Prints Multiplication\n",
    "\n",
    "print(num1 / num2)\n",
    "## Prints Division\n",
    "\n",
    "print(num1 % num2)\n",
    "## Prints MOD\n"
   ]
  },
  {
   "cell_type": "markdown",
   "metadata": {},
   "source": [
    "## Popcorn Hack 4"
   ]
  },
  {
   "cell_type": "code",
   "execution_count": 20,
   "metadata": {},
   "outputs": [
    {
     "name": "stdout",
     "output_type": "stream",
     "text": [
      "Torin Wolff\n",
      "5\n",
      "ri\n"
     ]
    }
   ],
   "source": [
    "lastname = \"Wolff\"\n",
    "firstname = \"Torin\"\n",
    "print(firstname + \" \" + lastname)\n",
    "lenthlast=len(lastname)\n",
    "print (lenthlast)\n",
    "substringfirstname=firstname[2:4]\n",
    "print(substringfirstname)"
   ]
  },
  {
   "cell_type": "markdown",
   "metadata": {},
   "source": [
    "## Homework Hacks\n",
    "\n",
    "Using the three commands MOVE_FORWARD(), ROTATE_RIGHT(), ROTATE_LEFT(), and CAN_MOVE(). solving the problem. Command Sequence:CAN_MOVE(true), MOVE_FORWARD(), MOVE_FORWARD, MOVE_FORWARD(). ROTATE_LEFT(), MOVE_FORWARD(), MOVE_FORWARD(),  ROTATE_RIGHT(), MOVE_FORWARD(), MOVE_FORWARD(), MOVE_FORWARD(). End of path."
   ]
  },
  {
   "cell_type": "code",
   "execution_count": 26,
   "metadata": {},
   "outputs": [
    {
     "name": "stdout",
     "output_type": "stream",
     "text": [
      "55\n"
     ]
    }
   ],
   "source": [
    "def fibonacci(number):\n",
    "    if number == 0:\n",
    "        return 0 ## if n is 0, return 0\n",
    "    elif number == 1:\n",
    "        return 1 ## if n is 1, return 1\n",
    "    else:\n",
    "        return fibonacci(number - 1) + fibonacci(number - 2) ## if n is not 0 or 1, return the sum of the previous two numbers\n",
    "    \n",
    "print(fibonacci(10)) ## prints the 10th number in the fibonacci sequence. Can change to any number but 10 is a high number."
   ]
  }
 ],
 "metadata": {
  "kernelspec": {
   "display_name": "Python 3",
   "language": "python",
   "name": "python3"
  },
  "language_info": {
   "codemirror_mode": {
    "name": "ipython",
    "version": 3
   },
   "file_extension": ".py",
   "mimetype": "text/x-python",
   "name": "python",
   "nbconvert_exporter": "python",
   "pygments_lexer": "ipython3",
   "version": "3.11.5"
  },
  "orig_nbformat": 4
 },
 "nbformat": 4,
 "nbformat_minor": 2
}
